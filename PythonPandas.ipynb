{
  "nbformat": 4,
  "nbformat_minor": 0,
  "metadata": {
    "colab": {
      "provenance": [],
      "authorship_tag": "ABX9TyNZqBUJ0j3T5fk3ZfV/Y23k",
      "include_colab_link": true
    },
    "kernelspec": {
      "name": "python3",
      "display_name": "Python 3"
    },
    "language_info": {
      "name": "python"
    }
  },
  "cells": [
    {
      "cell_type": "markdown",
      "metadata": {
        "id": "view-in-github",
        "colab_type": "text"
      },
      "source": [
        "<a href=\"https://colab.research.google.com/github/Nehankur1/PythonPandasDataWrangling/blob/main/PythonPandas.ipynb\" target=\"_parent\"><img src=\"https://colab.research.google.com/assets/colab-badge.svg\" alt=\"Open In Colab\"/></a>"
      ]
    },
    {
      "cell_type": "code",
      "execution_count": null,
      "metadata": {
        "id": "P-Y8F2B_wcdF"
      },
      "outputs": [],
      "source": [
        "# Python Basics - Collections in Python\n",
        "# 1. List - Mutable, Indexed, Ordered, Allows Duplicates, Represented by []\n",
        "# 2. Tuple - Immutable, Indexed, Ordered, Allows Duplicated, Represented by ()\n",
        "# 3. Set - Mutable, Unorderd, Represented by {}\n",
        "# 4. Dictionary - Key/Value, Mutable, Indexed, Ordered, Allows Duplicate, Represented by {}"
      ]
    }
  ]
}